{
 "cells": [
  {
   "cell_type": "code",
   "execution_count": 3,
   "metadata": {},
   "outputs": [],
   "source": [
    "import numpy as np\n",
    "from simplex_implementation import simplex"
   ]
  },
  {
   "cell_type": "code",
   "execution_count": 4,
   "metadata": {},
   "outputs": [],
   "source": [
    "## Setup Traveling Salesman Problem\n",
    "def naive_traveling_salesman_A(n):\n",
    "    A = np.zeros((2*n, n*n))\n",
    "\n",
    "    # Fill inflow\n",
    "    for i in range(n):\n",
    "        A[n+i, n*i+np.arange(n)] = 1\n",
    "\n",
    "    # Fill outflow\n",
    "    for i in range(n):\n",
    "        A[i, n*np.arange(n)+i] = 1\n",
    "\n",
    "    A = np.delete(A, n*np.arange(n)+np.arange(n), axis=1)\n",
    "    return A\n",
    "\n",
    "\n",
    "def naive_traveling_salesman_b(n):\n",
    "    return np.ones(n*2)\n",
    "\n",
    "\n",
    "def mtz_traveling_salesman_A(n):\n",
    "    A = np.zeros(((n-1)*(n-2), n*n+n-1))\n",
    "\n",
    "    # # Fill x_ij\n",
    "    r = 0\n",
    "    for i in range(1,n):\n",
    "        for j in range(1,n):\n",
    "            if i != j:\n",
    "                A[r, n*i+j] = n # Fill x_ij\n",
    "                A[r, n*n+i-1] = 1 # Fill u_i\n",
    "                A[r, n*n+j-1] = -1 # Fill u_j\n",
    "                r += 1\n",
    "\n",
    "    A = np.delete(A, n*np.arange(n)+np.arange(n), axis=1)\n",
    "    return A\n",
    "\n",
    "\n",
    "def mtz_traveling_salesman_b(n):\n",
    "    return np.full((n-1)*(n-2), n-1)"
   ]
  },
  {
   "cell_type": "code",
   "execution_count": 7,
   "metadata": {},
   "outputs": [
    {
     "data": {
      "text/plain": [
       "array([1., 0., 0., 0., 1., 0., 0., 0., 1., 1., 0., 0.])"
      ]
     },
     "execution_count": 7,
     "metadata": {},
     "output_type": "execute_result"
    }
   ],
   "source": [
    "## Naive traveling salesman problem\n",
    "'''\n",
    "Beware: This has the possibility to generate disconnected cycles\n",
    "'''\n",
    "n = 4\n",
    "A_e = naive_traveling_salesman_A(n)\n",
    "b_e = naive_traveling_salesman_b(n)\n",
    "c = np.array([4, 5, 8, 2, 1, 9, 4, 6, 3, 3, 7, 2])\n",
    "\n",
    "simplex(c, A_eq=A_e, b_eq=b_e, min=True)"
   ]
  },
  {
   "cell_type": "code",
   "execution_count": 8,
   "metadata": {},
   "outputs": [
    {
     "name": "stderr",
     "output_type": "stream",
     "text": [
      "/Users/gavinengelstad/Documents/Documents - Gavin’s MacBook Pro/School/Spring '23/Comp/Comp-Geom-Simplex-Implentation/simplex_implementation.py:134: RuntimeWarning: divide by zero encountered in divide\n",
      "  ratios = tab[1:, -1]/tab[1:, i] # Get ratios\n",
      "/Users/gavinengelstad/Documents/Documents - Gavin’s MacBook Pro/School/Spring '23/Comp/Comp-Geom-Simplex-Implentation/simplex_implementation.py:134: RuntimeWarning: invalid value encountered in divide\n",
      "  ratios = tab[1:, -1]/tab[1:, i] # Get ratios\n"
     ]
    },
    {
     "data": {
      "text/plain": [
       "array([0., 1., 0., 0., 0., 1., 0., 1., 0., 1., 0., 0., 2., 0., 3.])"
      ]
     },
     "execution_count": 8,
     "metadata": {},
     "output_type": "execute_result"
    }
   ],
   "source": [
    "# MTZ Traveling Salesman Problem\n",
    "'''\n",
    "It works\n",
    "\n",
    "Inputted cycle goes\n",
    "A -> C -> B -> D -> A\n",
    "'''\n",
    "\n",
    "n = 4\n",
    "A_e = np.column_stack((naive_traveling_salesman_A(n), np.zeros((2*n, n-1))))\n",
    "b_e = naive_traveling_salesman_b(n)\n",
    "A_l = mtz_traveling_salesman_A(n)\n",
    "b_l = mtz_traveling_salesman_b(n)\n",
    "c = np.array([9, 49, 19, 8, 69, 18, 6, 14, 17, 2, 32, 81, 0, 0, 0])\n",
    "\n",
    "simplex(c, A_gt=A_e, b_gt=b_e, A_lt=A_l, b_lt=b_l, min=True)"
   ]
  }
 ],
 "metadata": {
  "kernelspec": {
   "display_name": "Python 3",
   "language": "python",
   "name": "python3"
  },
  "language_info": {
   "codemirror_mode": {
    "name": "ipython",
    "version": 3
   },
   "file_extension": ".py",
   "mimetype": "text/x-python",
   "name": "python",
   "nbconvert_exporter": "python",
   "pygments_lexer": "ipython3",
   "version": "3.11.6"
  }
 },
 "nbformat": 4,
 "nbformat_minor": 2
}
