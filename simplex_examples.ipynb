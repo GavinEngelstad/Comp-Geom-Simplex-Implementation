{
 "cells": [
  {
   "cell_type": "code",
   "execution_count": 19,
   "metadata": {},
   "outputs": [],
   "source": [
    "import numpy as np\n",
    "from simplex_implementation import simplex\n",
    "np.set_printoptions(edgeitems=30, linewidth=100000, suppress=True, precision=3)"
   ]
  },
  {
   "cell_type": "code",
   "execution_count": 20,
   "metadata": {},
   "outputs": [
    {
     "data": {
      "text/plain": [
       "array([1.103, 0.276, 1.034])"
      ]
     },
     "execution_count": 20,
     "metadata": {},
     "output_type": "execute_result"
    }
   ],
   "source": [
    "## Basic Example\n",
    "'''\n",
    "Problem inputed is:\n",
    "\n",
    "maximize    5x + 5y + 3z\n",
    "subject to  x + 3y + z <= 3\n",
    "            -x + 3z <= 2\n",
    "            2x - y + 2z <= 4\n",
    "            2x + 3y - z <= 2\n",
    "\n",
    "The solution should be (1.103, 0.276, 1.034)\n",
    "'''\n",
    "c = np.array([5, 5, 3])\n",
    "A_l = np.array([[1, 3, 1], [-1, 0, 3], [2, -1, 2], [2, 3, -1]])\n",
    "b_l = np.array([3, 2, 4, 2])\n",
    "\n",
    "simplex(c, A_lt = A_l, b_lt = b_l)"
   ]
  },
  {
   "cell_type": "code",
   "execution_count": 21,
   "metadata": {},
   "outputs": [
    {
     "data": {
      "text/plain": [
       "array([125., 300.])"
      ]
     },
     "execution_count": 21,
     "metadata": {},
     "output_type": "execute_result"
    }
   ],
   "source": [
    "## Another Basic Example\n",
    "'''\n",
    "Problem inputed is:\n",
    "\n",
    "maximize    15x + 25y\n",
    "subject to  x + y <= 450\n",
    "            y <= 300\n",
    "            4x + 5y <= 2000\n",
    "            x <= 350\n",
    "\n",
    "The solution should be (125, 300)\n",
    "'''\n",
    "c = np.array([15, 25])\n",
    "A_l = np.array([[1, 1], [0, 1], [4, 5], [1, 0]])\n",
    "b_l = np.array([450, 300, 2000, 350])\n",
    "\n",
    "simplex(c, A_lt = A_l, b_lt = b_l)"
   ]
  },
  {
   "cell_type": "code",
   "execution_count": 22,
   "metadata": {},
   "outputs": [
    {
     "data": {
      "text/plain": [
       "array([2., 0., 1.])"
      ]
     },
     "execution_count": 22,
     "metadata": {},
     "output_type": "execute_result"
    }
   ],
   "source": [
    "## Another Basic Example\n",
    "'''\n",
    "Problem inputed is:\n",
    "\n",
    "maximize    5x + 4y + 3z\n",
    "subject to  2x + 3y + z <= 5\n",
    "            4x + y + 2z <= 11\n",
    "            3x + 4y + 2z <= 8\n",
    "\n",
    "The solution should be (2, 0, 1)\n",
    "'''\n",
    "c = np.array([5, 4, 3])\n",
    "A_l = np.array([[2, 3, 1], [4, 1, 2], [3, 4, 2]])\n",
    "b_l = np.array([5, 11, 8])\n",
    "\n",
    "simplex(c, A_lt = A_l, b_lt = b_l)"
   ]
  },
  {
   "cell_type": "code",
   "execution_count": 23,
   "metadata": {},
   "outputs": [
    {
     "data": {
      "text/plain": [
       "array([ 0., inf])"
      ]
     },
     "execution_count": 23,
     "metadata": {},
     "output_type": "execute_result"
    }
   ],
   "source": [
    "## Unboundedness Example\n",
    "'''\n",
    "Problem inputed is:\n",
    "\n",
    "maximize    -25x + 4y\n",
    "subject to  14x - y <= 25\n",
    "            x <= 30\n",
    "            -5x - 14y <= 12\n",
    "            4x - 7y <= 22\n",
    "\n",
    "The solution should be (0, inf)\n",
    "'''\n",
    "c = np.array([-25, 4])\n",
    "A_l = np.array([[14, -1], [1, 0], [-5, -14], [4, -7]])\n",
    "b_l = np.array([25, 30, 12, 22])\n",
    "\n",
    "simplex(c, A_lt = A_l, b_lt = b_l)"
   ]
  },
  {
   "cell_type": "code",
   "execution_count": 24,
   "metadata": {},
   "outputs": [
    {
     "data": {
      "text/plain": [
       "array([0., 0., 0., 0.])"
      ]
     },
     "execution_count": 24,
     "metadata": {},
     "output_type": "execute_result"
    }
   ],
   "source": [
    "## Cycling Example\n",
    "'''\n",
    "Problem inputed is:\n",
    "\n",
    "maximize    5w + 4x - 20y - 2z\n",
    "subject to  1/4w - 1/8x + 12y + 10z <= 0\n",
    "            1/10w + 1/20x + 1/20y + 1/5z <= 0\n",
    "\n",
    "The solution should be (0, 0, 0, 0)\n",
    "'''\n",
    "c = np.array([5, 4, -20, -2])\n",
    "A_l = np.array([[1/4, -1/8, 12, 10], [1/10, 1/20, 1/20, 1/5]])\n",
    "b_l = np.array([0, 0])\n",
    "\n",
    "simplex(c, A_lt = A_l, b_lt = b_l)"
   ]
  },
  {
   "cell_type": "code",
   "execution_count": 25,
   "metadata": {},
   "outputs": [
    {
     "data": {
      "text/plain": [
       "array([125., 300.])"
      ]
     },
     "execution_count": 25,
     "metadata": {},
     "output_type": "execute_result"
    }
   ],
   "source": [
    "## Degenerate Initialization Example\n",
    "'''\n",
    "Problem inputed is:\n",
    "\n",
    "maximize    15x + 25y\n",
    "subject to  x + y <= 450\n",
    "            y <= 300\n",
    "            4x + 5y <= 2000\n",
    "            x <= 350\n",
    "            x + y >= 100\n",
    "\n",
    "The solution should be (125, 300)\n",
    "'''\n",
    "c = np.array([15, 25])\n",
    "A_l = np.array([[1, 1], [0, 1], [4, 5], [1, 0], [-1, -1]])\n",
    "b_l = np.array([450, 300, 2000, 350, -100])\n",
    "\n",
    "simplex(c, A_lt = A_l, b_lt = b_l)"
   ]
  },
  {
   "cell_type": "code",
   "execution_count": 26,
   "metadata": {},
   "outputs": [
    {
     "data": {
      "text/plain": [
       "array([0., 0., 9.])"
      ]
     },
     "execution_count": 26,
     "metadata": {},
     "output_type": "execute_result"
    }
   ],
   "source": [
    "## Another Degenerate Initialization Example\n",
    "'''\n",
    "Problem inputed is:\n",
    "\n",
    "maximize    x - 2y + 3z\n",
    "subject to  -2x + 3y + 4z >= 12\n",
    "            3x + 2y + z >= 6\n",
    "            x + y + z <= 9\n",
    "\n",
    "The solution should be (0, 0, 9)\n",
    "'''\n",
    "c = np.array([1, -2, 3])\n",
    "A_l = np.array([[2, -3, -4], [-3, -2, -1], [1, 1, 1]])\n",
    "b_l = np.array([-12, -6, 9])\n",
    "\n",
    "simplex(c, A_lt = A_l, b_lt = b_l)"
   ]
  },
  {
   "cell_type": "code",
   "execution_count": 27,
   "metadata": {},
   "outputs": [
    {
     "data": {
      "text/plain": [
       "array([11.,  7.])"
      ]
     },
     "execution_count": 27,
     "metadata": {},
     "output_type": "execute_result"
    }
   ],
   "source": [
    "## Another Degenerate Initialization Example\n",
    "'''\n",
    "Problem inputed is:\n",
    "\n",
    "maximize    x + y\n",
    "subject to  2x + y <= 29\n",
    "            2x + 4y <= 50\n",
    "            x >= 5\n",
    "            y >= 2\n",
    "\n",
    "The solution should be (11, 7)\n",
    "'''\n",
    "c = np.array([1, 1])\n",
    "A_l = np.array([[2, 1], [2, 4], [-1, 0], [0, -1]])\n",
    "b_l = np.array([29, 50, -5, -2])\n",
    "\n",
    "simplex(c, A_lt = A_l, b_lt = b_l)"
   ]
  },
  {
   "cell_type": "code",
   "execution_count": 28,
   "metadata": {},
   "outputs": [
    {
     "data": {
      "text/plain": [
       "array([nan, nan])"
      ]
     },
     "execution_count": 28,
     "metadata": {},
     "output_type": "execute_result"
    }
   ],
   "source": [
    "## No feasible region example\n",
    "'''\n",
    "Problem inputed is:\n",
    "\n",
    "maximize    x + y\n",
    "subject to  x + y <= 11\n",
    "            x >= 6\n",
    "            y >= 6\n",
    "\n",
    "The solution should be (NaN, NaN)\n",
    "'''\n",
    "c = np.array([1, 1])\n",
    "A_l = np.array([[1, 1], [-1, 0], [0, -1]])\n",
    "b_l = np.array([11, -6, -6])\n",
    "\n",
    "simplex(c, A_lt = A_l, b_lt = b_l)"
   ]
  },
  {
   "cell_type": "code",
   "execution_count": 29,
   "metadata": {},
   "outputs": [
    {
     "data": {
      "text/plain": [
       "array([125., 300.])"
      ]
     },
     "execution_count": 29,
     "metadata": {},
     "output_type": "execute_result"
    }
   ],
   "source": [
    "## Rewrite Equality\n",
    "'''\n",
    "Problem inputed is:\n",
    "\n",
    "maximize    15x + 25y\n",
    "subject to  x + y <= 450\n",
    "            y <= 300\n",
    "            4x + 5y <= 2000\n",
    "            x <= 350\n",
    "\n",
    "The solution should be (125, 300)\n",
    "'''\n",
    "c = np.array([15, 25])\n",
    "A_l = np.array([[1, 1], [0, 1], [4, 5], [1, 0]])\n",
    "b_l = np.array([450, 300, 2000, 350])\n",
    "A_g = np.array([[0, 1], [1, 1]])\n",
    "b_g = np.array([300, 100])\n",
    "\n",
    "simplex(c, A_lt=A_l, b_lt=b_l, A_gt=A_g, b_gt=b_g)"
   ]
  }
 ],
 "metadata": {
  "kernelspec": {
   "display_name": "Python 3",
   "language": "python",
   "name": "python3"
  },
  "language_info": {
   "codemirror_mode": {
    "name": "ipython",
    "version": 3
   },
   "file_extension": ".py",
   "mimetype": "text/x-python",
   "name": "python",
   "nbconvert_exporter": "python",
   "pygments_lexer": "ipython3",
   "version": "3.11.6"
  }
 },
 "nbformat": 4,
 "nbformat_minor": 2
}
